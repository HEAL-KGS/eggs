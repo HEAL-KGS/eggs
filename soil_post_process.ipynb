{
 "cells": [
  {
   "cell_type": "markdown",
   "id": "970902aa",
   "metadata": {},
   "source": [
    "# Soil Data from POLARIS -- Post Processing"
   ]
  },
  {
   "cell_type": "markdown",
   "id": "9f18c735",
   "metadata": {},
   "source": [
    "## Import Libraries and Setting Up Work Space"
   ]
  },
  {
   "cell_type": "code",
   "execution_count": 1,
   "id": "b7b9edc2",
   "metadata": {},
   "outputs": [],
   "source": [
    "import os \n",
    "import numpy as np\n",
    "import pandas as pd"
   ]
  },
  {
   "cell_type": "code",
   "execution_count": 2,
   "id": "8a408397",
   "metadata": {},
   "outputs": [
    {
     "data": {
      "text/plain": [
       "'C:\\\\Users\\\\ashle\\\\Desktop\\\\KGS\\\\data\\\\Agriculture-Land\\\\Soils'"
      ]
     },
     "execution_count": 2,
     "metadata": {},
     "output_type": "execute_result"
    }
   ],
   "source": [
    "# Getting current work directory\n",
    "os.getcwd()"
   ]
  },
  {
   "cell_type": "code",
   "execution_count": 3,
   "id": "fef4676c",
   "metadata": {},
   "outputs": [],
   "source": [
    "# Create filepaths for all soil data\n",
    "log_alpha_fp = \"C:\\\\Users\\\\ashle\\\\Desktop\\\\KGS\\\\data\\\\Agriculture-Land\\\\Soils\\\\POLARIS\\\\logAlpha\"\n",
    "clay_fp = \"C:\\\\Users\\\\ashle\\\\Desktop\\\\KGS\\\\data\\\\Agriculture-Land\\\\Soils\\\\POLARIS\\\\Clay\"\n",
    "log_hb_fp = \"C:\\\\Users\\\\ashle\\\\Desktop\\\\KGS\\\\data\\\\Agriculture-Land\\\\Soils\\\\POLARIS\\logHB\"\n",
    "log_ksat_fp = \"C:\\\\Users\\\\ashle\\\\Desktop\\\\KGS\\\\data\\\\Agriculture-Land\\\\Soils\\\\POLARIS\\\\logKsat\"\n",
    "lambda_fp = \"C:\\\\Users\\\\ashle\\\\Desktop\\\\KGS\\\\data\\\\Agriculture-Land\\\\Soils\\\\POLARIS\\\\Lambda\"\n",
    "n_fp = \"C:\\\\Users\\\\ashle\\\\Desktop\\\\KGS\\\\data\\\\Agriculture-Land\\\\Soils\\\\POLARIS\\\\N\"\n",
    "sand_fp = \"C:\\\\Users\\\\ashle\\\\Desktop\\\\KGS\\\\data\\\\Agriculture-Land\\\\Soils\\\\POLARIS\\\\Sand\"\n",
    "silt_fp = \"C:\\\\Users\\\\ashle\\\\Desktop\\\\KGS\\\\data\\\\Agriculture-Land\\\\Soils\\\\POLARIS\\\\Silt\"\n",
    "theta_r_fp = \"C:\\\\Users\\\\ashle\\\\Desktop\\\\KGS\\\\data\\\\Agriculture-Land\\\\Soils\\\\POLARIS\\\\Theta_R\"\n",
    "theta_s_fp = \"C:\\\\Users\\\\ashle\\\\Desktop\\\\KGS\\\\data\\\\Agriculture-Land\\\\Soils\\\\POLARIS\\\\Theta_S\""
   ]
  },
  {
   "cell_type": "markdown",
   "id": "11b276a3",
   "metadata": {},
   "source": [
    "## Import each soil type and depth"
   ]
  },
  {
   "cell_type": "markdown",
   "id": "6c9796c1",
   "metadata": {},
   "source": [
    "### Log Alpha"
   ]
  },
  {
   "cell_type": "code",
   "execution_count": 4,
   "id": "b97d48fe",
   "metadata": {},
   "outputs": [],
   "source": [
    "# Import alpha\n",
    "os.chdir(log_alpha_fp)\n",
    "log_alpha_0_5 = pd.read_csv('logAlpha_0_5_POLARIS_FieldsNoDups.csv')\n",
    "log_alpha_5_15 = pd.read_csv('logAlpha_5_15_POLARIS_FieldsNoDups.csv')\n",
    "log_alpha_15_30 = pd.read_csv('logAlpha_15_30_POLARIS_FieldsNoDups.csv')\n",
    "log_alpha_30_60 = pd.read_csv('logAlpha_30_60_POLARIS_FieldsNoDups.csv')\n",
    "log_alpha_60_100 = pd.read_csv('logAlpha_60_100_POLARIS_FieldsNoDups.csv')\n",
    "log_alpha_100_200 = pd.read_csv('logAlpha_100_200_POLARIS_FieldsNoDups.csv')"
   ]
  },
  {
   "cell_type": "code",
   "execution_count": 5,
   "id": "799703c9",
   "metadata": {},
   "outputs": [],
   "source": [
    "# Adjust the data by adding a column for depth and selecting the columns of interest\n",
    "log_alpha_0_5['depth_cm'] = '0-5'\n",
    "log_alpha_0_5 = log_alpha_0_5[['UID', 'depth_cm', 'mean']]\n",
    "\n",
    "log_alpha_5_15['depth_cm'] = '5-15'\n",
    "log_alpha_5_15 = log_alpha_5_15[['UID', 'depth_cm', 'mean']]\n",
    "\n",
    "log_alpha_15_30['depth_cm'] = '15-30'\n",
    "log_alpha_15_30 = log_alpha_15_30[['UID', 'depth_cm', 'mean']]\n",
    "\n",
    "log_alpha_30_60['depth_cm'] = '30-60'\n",
    "log_alpha_30_60 = log_alpha_30_60[['UID', 'depth_cm', 'mean']]\n",
    "\n",
    "log_alpha_60_100['depth_cm'] = '60-100'\n",
    "log_alpha_60_100 = log_alpha_60_100[['UID', 'depth_cm', 'mean']]\n",
    "\n",
    "log_alpha_100_200['depth_cm'] = '100-200'\n",
    "log_alpha_100_200 = log_alpha_100_200[['UID', 'depth_cm', 'mean']]"
   ]
  },
  {
   "cell_type": "code",
   "execution_count": 39,
   "id": "8e1277d8",
   "metadata": {},
   "outputs": [],
   "source": [
    "# Concatenate into one dataframe and add soil type column\n",
    "log_alpha = pd.concat([log_alpha_0_5, log_alpha_5_15, log_alpha_15_30, log_alpha_30_60, log_alpha_60_100, log_alpha_100_200])\n",
    "log_alpha = log_alpha.rename(columns = {'mean':'logAlpha_kPa1'})"
   ]
  },
  {
   "cell_type": "markdown",
   "id": "7b6ae833",
   "metadata": {},
   "source": [
    "### Clay"
   ]
  },
  {
   "cell_type": "code",
   "execution_count": 7,
   "id": "8499bdfd",
   "metadata": {},
   "outputs": [],
   "source": [
    "# Import clay\n",
    "os.chdir(clay_fp)\n",
    "clay_0_5 = pd.read_csv('Clay_0_5_POLARIS_FieldsNoDups.csv')\n",
    "clay_5_15 = pd.read_csv('Clay_5_15_POLARIS_FieldsNoDups.csv')\n",
    "clay_15_30 = pd.read_csv('Clay_15_30_POLARIS_FieldsNoDups.csv')\n",
    "clay_30_60 = pd.read_csv('Clay_30_60_POLARIS_FieldsNoDups.csv')\n",
    "clay_60_100 = pd.read_csv('Clay_60_100_POLARIS_FieldsNoDups.csv')\n",
    "clay_100_200 = pd.read_csv('Clay_100_200_POLARIS_FieldsNoDups.csv')"
   ]
  },
  {
   "cell_type": "code",
   "execution_count": 8,
   "id": "30dde9bb",
   "metadata": {},
   "outputs": [],
   "source": [
    "# Adjust the data by adding a column for depth and selecting the columns of interest\n",
    "clay_0_5['depth_cm'] = '0-5'\n",
    "clay_0_5 = clay_0_5[['UID', 'depth_cm', 'mean']]\n",
    "\n",
    "clay_5_15['depth_cm'] = '5-15'\n",
    "clay_5_15 = clay_5_15[['UID', 'depth_cm', 'mean']]\n",
    "\n",
    "clay_15_30['depth_cm'] = '15-30'\n",
    "clay_15_30 = clay_15_30[['UID', 'depth_cm', 'mean']]\n",
    "\n",
    "clay_30_60['depth_cm'] = '30-60'\n",
    "clay_30_60 = clay_30_60[['UID', 'depth_cm', 'mean']]\n",
    "\n",
    "clay_60_100['depth_cm'] = '60-100'\n",
    "clay_60_100 = clay_60_100[['UID', 'depth_cm', 'mean']]\n",
    "\n",
    "clay_100_200['depth_cm'] = '100-200'\n",
    "clay_100_200 = clay_100_200[['UID', 'depth_cm', 'mean']]"
   ]
  },
  {
   "cell_type": "code",
   "execution_count": 9,
   "id": "d7a2b192",
   "metadata": {},
   "outputs": [],
   "source": [
    "# Concatenate into one dataframe and add soil type column\n",
    "clay = pd.concat([clay_0_5, clay_5_15, clay_15_30, clay_30_60, clay_60_100, clay_100_200])\n",
    "clay = clay.rename(columns = {'mean':'clay_prc'})"
   ]
  },
  {
   "cell_type": "markdown",
   "id": "56400a77",
   "metadata": {},
   "source": [
    "### Log HB"
   ]
  },
  {
   "cell_type": "code",
   "execution_count": 10,
   "id": "4096a794",
   "metadata": {},
   "outputs": [],
   "source": [
    "# Import log_hb\n",
    "os.chdir(log_hb_fp)\n",
    "log_hb_0_5 = pd.read_csv('logHB_0_5_POLARIS_FieldsNoDups.csv')\n",
    "log_hb_5_15 = pd.read_csv('logHB_5_15_POLARIS_FieldsNoDups.csv')\n",
    "log_hb_15_30 = pd.read_csv('logHB_15_30_POLARIS_FieldsNoDups.csv')\n",
    "log_hb_30_60 = pd.read_csv('logHB_30_60_POLARIS_FieldsNoDups.csv')\n",
    "log_hb_60_100 = pd.read_csv('logHB_60_100_POLARIS_FieldsNoDups.csv')\n",
    "log_hb_100_200 = pd.read_csv('logHB_100_200_POLARIS_FieldsNoDups.csv')"
   ]
  },
  {
   "cell_type": "code",
   "execution_count": 11,
   "id": "a90e6fc6",
   "metadata": {},
   "outputs": [],
   "source": [
    "# Adjust the data by adding a column for depth and selecting the columns of interest\n",
    "log_hb_0_5['depth_cm'] = '0-5'\n",
    "log_hb_0_5 = log_hb_0_5[['UID', 'depth_cm', 'mean']]\n",
    "\n",
    "log_hb_5_15['depth_cm'] = '5-15'\n",
    "log_hb_5_15 = log_hb_5_15[['UID', 'depth_cm', 'mean']]\n",
    "\n",
    "log_hb_15_30['depth_cm'] = '15-30'\n",
    "log_hb_15_30 = log_hb_15_30[['UID', 'depth_cm', 'mean']]\n",
    "\n",
    "log_hb_30_60['depth_cm'] = '30-60'\n",
    "log_hb_30_60 = log_hb_30_60[['UID', 'depth_cm', 'mean']]\n",
    "\n",
    "log_hb_60_100['depth_cm'] = '60-100'\n",
    "log_hb_60_100 = log_hb_60_100[['UID', 'depth_cm', 'mean']]\n",
    "\n",
    "log_hb_100_200['depth_cm'] = '100-200'\n",
    "log_hb_100_200 = log_hb_100_200[['UID', 'depth_cm', 'mean']]"
   ]
  },
  {
   "cell_type": "code",
   "execution_count": 12,
   "id": "7681e57d",
   "metadata": {},
   "outputs": [],
   "source": [
    "# Concatenate into one dataframe and add soil type column\n",
    "log_hb = pd.concat([log_hb_0_5, log_hb_5_15, log_hb_15_30, log_hb_30_60, log_hb_60_100, log_hb_100_200])\n",
    "log_hb = log_hb.rename(columns = {'mean':'logHB_kPa'})"
   ]
  },
  {
   "cell_type": "markdown",
   "id": "73c5e4e4",
   "metadata": {},
   "source": [
    "### Log Ksat"
   ]
  },
  {
   "cell_type": "code",
   "execution_count": 13,
   "id": "cd996351",
   "metadata": {},
   "outputs": [],
   "source": [
    "# Import ksat\n",
    "os.chdir(log_ksat_fp)\n",
    "log_ksat_0_5 = pd.read_csv('logKsat_0_5_POLARIS_FieldsNoDups.csv')\n",
    "log_ksat_5_15 = pd.read_csv('logKsat_5_15_POLARIS_FieldsNoDups.csv')\n",
    "log_ksat_15_30 = pd.read_csv('logKsat_15_30_POLARIS_FieldsNoDups.csv')\n",
    "log_ksat_30_60 = pd.read_csv('logKsat_30_60_POLARIS_FieldsNoDups.csv')\n",
    "log_ksat_60_100 = pd.read_csv('logKsat_60_100_POLARIS_FieldsNoDups.csv')\n",
    "log_ksat_100_200 = pd.read_csv('logKsat_100_200_POLARIS_FieldsNoDups.csv')"
   ]
  },
  {
   "cell_type": "code",
   "execution_count": 14,
   "id": "dd27cefb",
   "metadata": {},
   "outputs": [],
   "source": [
    "# Adjust the data by adding a column for depth and selecting the columns of interest\n",
    "log_ksat_0_5['depth_cm'] = '0-5'\n",
    "log_ksat_0_5 = log_ksat_0_5[['UID', 'depth_cm', 'mean']]\n",
    "\n",
    "log_ksat_5_15['depth_cm'] = '5-15'\n",
    "log_ksat_5_15 = log_ksat_5_15[['UID', 'depth_cm', 'mean']]\n",
    "\n",
    "log_ksat_15_30['depth_cm'] = '15-30'\n",
    "log_ksat_15_30 = log_ksat_15_30[['UID', 'depth_cm', 'mean']]\n",
    "\n",
    "log_ksat_30_60['depth_cm'] = '30-60'\n",
    "log_ksat_30_60 = log_ksat_30_60[['UID', 'depth_cm', 'mean']]\n",
    "\n",
    "log_ksat_60_100['depth_cm'] = '60-100'\n",
    "log_ksat_60_100 = log_ksat_60_100[['UID', 'depth_cm', 'mean']]\n",
    "\n",
    "log_ksat_100_200['depth_cm'] = '100-200'\n",
    "log_ksat_100_200 = log_ksat_100_200[['UID', 'depth_cm', 'mean']]"
   ]
  },
  {
   "cell_type": "code",
   "execution_count": 15,
   "id": "d55e3776",
   "metadata": {},
   "outputs": [],
   "source": [
    "# Concatenate into one dataframe and add soil type column\n",
    "log_ksat = pd.concat([log_ksat_0_5, log_ksat_5_15, log_ksat_15_30, log_ksat_30_60, log_ksat_60_100, log_ksat_100_200])\n",
    "log_ksat = log_ksat.rename(columns = {'mean':'logKsat_cmHr'})"
   ]
  },
  {
   "cell_type": "markdown",
   "id": "fe46c885",
   "metadata": {},
   "source": [
    "### Lambda"
   ]
  },
  {
   "cell_type": "code",
   "execution_count": 16,
   "id": "2b78166b",
   "metadata": {},
   "outputs": [],
   "source": [
    "# Import lambda\n",
    "os.chdir(lambda_fp)\n",
    "lambda_0_5 = pd.read_csv('Lambda_0_5_POLARIS_FieldsNoDups.csv')\n",
    "lambda_5_15 = pd.read_csv('Lambda_5_15_POLARIS_FieldsNoDups.csv')\n",
    "lambda_15_30 = pd.read_csv('Lambda_15_30_POLARIS_FieldsNoDups.csv')\n",
    "lambda_30_60 = pd.read_csv('Lambda_30_60_POLARIS_FieldsNoDups.csv')\n",
    "lambda_60_100 = pd.read_csv('Lambda_60_100_POLARIS_FieldsNoDups.csv')\n",
    "lambda_100_200 = pd.read_csv('Lambda_100_200_POLARIS_FieldsNoDups.csv')"
   ]
  },
  {
   "cell_type": "code",
   "execution_count": 17,
   "id": "c95f05f0",
   "metadata": {},
   "outputs": [],
   "source": [
    "# Adjust the data by adding a column for depth and selecting the columns of interest\n",
    "lambda_0_5['depth_cm'] = '0-5'\n",
    "lambda_0_5 = lambda_0_5[['UID', 'depth_cm', 'mean']]\n",
    "\n",
    "lambda_5_15['depth_cm'] = '5-15'\n",
    "lambda_5_15 = lambda_5_15[['UID', 'depth_cm', 'mean']]\n",
    "\n",
    "lambda_15_30['depth_cm'] = '15-30'\n",
    "lambda_15_30 = lambda_15_30[['UID', 'depth_cm', 'mean']]\n",
    "\n",
    "lambda_30_60['depth_cm'] = '30-60'\n",
    "lambda_30_60 = lambda_30_60[['UID', 'depth_cm', 'mean']]\n",
    "\n",
    "lambda_60_100['depth_cm'] = '60-100'\n",
    "lambda_60_100 = lambda_60_100[['UID', 'depth_cm', 'mean']]\n",
    "\n",
    "lambda_100_200['depth_cm'] = '100-200'\n",
    "lambda_100_200 = lambda_100_200[['UID', 'depth_cm', 'mean']]"
   ]
  },
  {
   "cell_type": "code",
   "execution_count": 18,
   "id": "bebaaa41",
   "metadata": {},
   "outputs": [],
   "source": [
    "# Concatenate into one dataframe and add soil type column\n",
    "Lambda = pd.concat([lambda_0_5, lambda_5_15, lambda_15_30, lambda_30_60, lambda_60_100, lambda_100_200])\n",
    "Lambda = Lambda.rename(columns = {'mean':'lambda'})"
   ]
  },
  {
   "cell_type": "markdown",
   "id": "7310d690",
   "metadata": {},
   "source": [
    "### N"
   ]
  },
  {
   "cell_type": "code",
   "execution_count": 19,
   "id": "44c1fc1a",
   "metadata": {},
   "outputs": [],
   "source": [
    "# Import n\n",
    "os.chdir(n_fp)\n",
    "n_0_5 = pd.read_csv('N_0_5_POLARIS_FieldsNoDups.csv')\n",
    "n_5_15 = pd.read_csv('N_5_15_POLARIS_FieldsNoDups.csv')\n",
    "n_15_30 = pd.read_csv('N_15_30_POLARIS_FieldsNoDups.csv')\n",
    "n_30_60 = pd.read_csv('N_30_60_POLARIS_FieldsNoDups.csv')\n",
    "n_60_100 = pd.read_csv('N_60_100_POLARIS_FieldsNoDups.csv')\n",
    "n_100_200 = pd.read_csv('N_100_200_POLARIS_FieldsNoDups.csv')"
   ]
  },
  {
   "cell_type": "code",
   "execution_count": 20,
   "id": "095d1430",
   "metadata": {},
   "outputs": [],
   "source": [
    "# Adjust the data by adding a column for depth and selecting the columns of interest\n",
    "n_0_5['depth_cm'] = '0-5'\n",
    "n_0_5 = n_0_5[['UID', 'depth_cm', 'mean']]\n",
    "\n",
    "n_5_15['depth_cm'] = '5-15'\n",
    "n_5_15 = n_5_15[['UID', 'depth_cm', 'mean']]\n",
    "\n",
    "n_15_30['depth_cm'] = '15-30'\n",
    "n_15_30 = n_15_30[['UID', 'depth_cm', 'mean']]\n",
    "\n",
    "n_30_60['depth_cm'] = '30-60'\n",
    "n_30_60 = n_30_60[['UID', 'depth_cm', 'mean']]\n",
    "\n",
    "n_60_100['depth_cm'] = '60-100'\n",
    "n_60_100 = n_60_100[['UID', 'depth_cm', 'mean']]\n",
    "\n",
    "n_100_200['depth_cm'] = '100-200'\n",
    "n_100_200 = n_100_200[['UID', 'depth_cm', 'mean']]"
   ]
  },
  {
   "cell_type": "code",
   "execution_count": 21,
   "id": "a173f7f3",
   "metadata": {},
   "outputs": [],
   "source": [
    "# Concatenate into one dataframe and add soil type column\n",
    "n = pd.concat([n_0_5, n_5_15, n_15_30, n_30_60, n_60_100, n_100_200])\n",
    "n = n.rename(columns = {'mean':'n'})"
   ]
  },
  {
   "cell_type": "markdown",
   "id": "a7a91e4d",
   "metadata": {},
   "source": [
    "### Sand"
   ]
  },
  {
   "cell_type": "code",
   "execution_count": 22,
   "id": "61b875cb",
   "metadata": {},
   "outputs": [],
   "source": [
    "# Import sand\n",
    "os.chdir(sand_fp)\n",
    "sand_0_5 = pd.read_csv('Sand_0_5_POLARIS_FieldsNoDups.csv')\n",
    "sand_5_15 = pd.read_csv('Sand_5_15_POLARIS_FieldsNoDups.csv')\n",
    "sand_15_30 = pd.read_csv('Sand_15_30_POLARIS_FieldsNoDups.csv')\n",
    "sand_30_60 = pd.read_csv('Sand_30_60_POLARIS_FieldsNoDups.csv')\n",
    "sand_60_100 = pd.read_csv('Sand_60_100_POLARIS_FieldsNoDups.csv')\n",
    "sand_100_200 = pd.read_csv('Sand_100_200_POLARIS_FieldsNoDups.csv')"
   ]
  },
  {
   "cell_type": "code",
   "execution_count": 23,
   "id": "a3be0ea1",
   "metadata": {},
   "outputs": [],
   "source": [
    "# Adjust the data by adding a column for depth and selecting the columns of interest\n",
    "sand_0_5['depth_cm'] = '0-5'\n",
    "sand_0_5 = sand_0_5[['UID', 'depth_cm', 'mean']]\n",
    "\n",
    "sand_5_15['depth_cm'] = '5-15'\n",
    "sand_5_15 = sand_5_15[['UID', 'depth_cm', 'mean']]\n",
    "\n",
    "sand_15_30['depth_cm'] = '15-30'\n",
    "sand_15_30 = sand_15_30[['UID', 'depth_cm', 'mean']]\n",
    "\n",
    "sand_30_60['depth_cm'] = '30-60'\n",
    "sand_30_60 = sand_30_60[['UID', 'depth_cm', 'mean']]\n",
    "\n",
    "sand_60_100['depth_cm'] = '60-100'\n",
    "sand_60_100 = sand_60_100[['UID', 'depth_cm', 'mean']]\n",
    "\n",
    "sand_100_200['depth_cm'] = '100-200'\n",
    "sand_100_200 = sand_100_200[['UID', 'depth_cm', 'mean']]"
   ]
  },
  {
   "cell_type": "code",
   "execution_count": 24,
   "id": "27f9d094",
   "metadata": {},
   "outputs": [],
   "source": [
    "# Concatenate into one dataframe and add soil type column\n",
    "sand = pd.concat([sand_0_5, sand_5_15, sand_15_30, sand_30_60, sand_60_100, sand_100_200])\n",
    "sand = sand.rename(columns = {'mean':'sand_prc'})"
   ]
  },
  {
   "cell_type": "markdown",
   "id": "c5572e1e",
   "metadata": {},
   "source": [
    "### Silt"
   ]
  },
  {
   "cell_type": "code",
   "execution_count": 25,
   "id": "8e1cab39",
   "metadata": {},
   "outputs": [],
   "source": [
    "# Import silt\n",
    "os.chdir(silt_fp)\n",
    "silt_0_5 = pd.read_csv('Silt_0_5_POLARIS_FieldsNoDups.csv')\n",
    "silt_5_15 = pd.read_csv('Silt_5_15_POLARIS_FieldsNoDups.csv')\n",
    "silt_15_30 = pd.read_csv('Silt_15_30_POLARIS_FieldsNoDups.csv')\n",
    "silt_30_60 = pd.read_csv('Silt_30_60_POLARIS_FieldsNoDups.csv')\n",
    "silt_60_100 = pd.read_csv('Silt_60_100_POLARIS_FieldsNoDups.csv')\n",
    "silt_100_200 = pd.read_csv('Silt_100_200_POLARIS_FieldsNoDups.csv')"
   ]
  },
  {
   "cell_type": "code",
   "execution_count": 26,
   "id": "4de886d0",
   "metadata": {},
   "outputs": [],
   "source": [
    "# Adjust the data by adding a column for depth and selecting the columns of interest\n",
    "silt_0_5['depth_cm'] = '0-5'\n",
    "silt_0_5 = silt_0_5[['UID', 'depth_cm', 'mean']]\n",
    "\n",
    "silt_5_15['depth_cm'] = '5-15'\n",
    "silt_5_15 = silt_5_15[['UID', 'depth_cm', 'mean']]\n",
    "\n",
    "silt_15_30['depth_cm'] = '15-30'\n",
    "silt_15_30 = silt_15_30[['UID', 'depth_cm', 'mean']]\n",
    "\n",
    "silt_30_60['depth_cm'] = '30-60'\n",
    "silt_30_60 = silt_30_60[['UID', 'depth_cm', 'mean']]\n",
    "\n",
    "silt_60_100['depth_cm'] = '60-100'\n",
    "silt_60_100 = silt_60_100[['UID', 'depth_cm', 'mean']]\n",
    "\n",
    "silt_100_200['depth_cm'] = '100-200'\n",
    "silt_100_200 = silt_100_200[['UID', 'depth_cm', 'mean']]"
   ]
  },
  {
   "cell_type": "code",
   "execution_count": 27,
   "id": "98248e25",
   "metadata": {},
   "outputs": [],
   "source": [
    "# Concatenate into one dataframe and add soil type column\n",
    "silt = pd.concat([silt_0_5, silt_5_15, silt_15_30, silt_30_60, silt_60_100, silt_100_200])\n",
    "silt = silt.rename(columns = {'mean':'silt_prc'})"
   ]
  },
  {
   "cell_type": "markdown",
   "id": "55501dee",
   "metadata": {},
   "source": [
    "### Theta R"
   ]
  },
  {
   "cell_type": "code",
   "execution_count": 28,
   "id": "2ad8cb07",
   "metadata": {},
   "outputs": [],
   "source": [
    "# Import theta_r\n",
    "os.chdir(theta_r_fp)\n",
    "theta_r_0_5 = pd.read_csv('Theta_R_0_5_POLARIS_FieldsNoDups.csv')\n",
    "theta_r_5_15 = pd.read_csv('Theta_R_5_15_POLARIS_FieldsNoDups.csv')\n",
    "theta_r_15_30 = pd.read_csv('Theta_R_15_30_POLARIS_FieldsNoDups.csv')\n",
    "theta_r_30_60 = pd.read_csv('Theta_R_30_60_POLARIS_FieldsNoDups.csv')\n",
    "theta_r_60_100 = pd.read_csv('Theta_R_60_100_POLARIS_FieldsNoDups.csv')\n",
    "theta_r_100_200 = pd.read_csv('Theta_R_100_200_POLARIS_FieldsNoDups.csv')"
   ]
  },
  {
   "cell_type": "code",
   "execution_count": 29,
   "id": "b30475ed",
   "metadata": {},
   "outputs": [],
   "source": [
    "# Adjust the data by adding a column for depth and selecting the columns of interest\n",
    "theta_r_0_5['depth_cm'] = '0-5'\n",
    "theta_r_0_5 = theta_r_0_5[['UID', 'depth_cm', 'mean']]\n",
    "\n",
    "theta_r_5_15['depth_cm'] = '5-15'\n",
    "theta_r_5_15 = theta_r_5_15[['UID', 'depth_cm', 'mean']]\n",
    "\n",
    "theta_r_15_30['depth_cm'] = '15-30'\n",
    "theta_r_15_30 = theta_r_15_30[['UID', 'depth_cm', 'mean']]\n",
    "\n",
    "theta_r_30_60['depth_cm'] = '30-60'\n",
    "theta_r_30_60 = theta_r_30_60[['UID', 'depth_cm', 'mean']]\n",
    "\n",
    "theta_r_60_100['depth_cm'] = '60-100'\n",
    "theta_r_60_100 = theta_r_60_100[['UID', 'depth_cm', 'mean']]\n",
    "\n",
    "theta_r_100_200['depth_cm'] = '100-200'\n",
    "theta_r_100_200 = theta_r_100_200[['UID', 'depth_cm', 'mean']]"
   ]
  },
  {
   "cell_type": "code",
   "execution_count": 30,
   "id": "deb83799",
   "metadata": {},
   "outputs": [],
   "source": [
    "# Concatenate into one dataframe and add soil type column\n",
    "theta_r = pd.concat([theta_r_0_5, theta_r_5_15, theta_r_15_30, theta_r_30_60, theta_r_60_100, theta_r_100_200])\n",
    "theta_r = theta_r.rename(columns = {'mean':'thetaR_m3m3'})"
   ]
  },
  {
   "cell_type": "markdown",
   "id": "f95ad8a0",
   "metadata": {},
   "source": [
    "### Theta S"
   ]
  },
  {
   "cell_type": "code",
   "execution_count": 31,
   "id": "99e0428f",
   "metadata": {},
   "outputs": [],
   "source": [
    "# Import theta_s\n",
    "os.chdir(theta_s_fp)\n",
    "theta_s_0_5 = pd.read_csv('Theta_S_0_5_POLARIS_FieldsNoDups.csv')\n",
    "theta_s_5_15 = pd.read_csv('Theta_S_5_15_POLARIS_FieldsNoDups.csv')\n",
    "theta_s_15_30 = pd.read_csv('Theta_S_15_30_POLARIS_FieldsNoDups.csv')\n",
    "theta_s_30_60 = pd.read_csv('Theta_S_30_60_POLARIS_FieldsNoDups.csv')\n",
    "theta_s_60_100 = pd.read_csv('Theta_S_60_100_POLARIS_FieldsNoDups.csv')\n",
    "theta_s_100_200 = pd.read_csv('Theta_S_100_200_POLARIS_FieldsNoDups.csv')"
   ]
  },
  {
   "cell_type": "code",
   "execution_count": 32,
   "id": "72f71e47",
   "metadata": {},
   "outputs": [],
   "source": [
    "# Adjust the data by adding a column for depth and selecting the columns of interest\n",
    "theta_s_0_5['depth_cm'] = '0-5'\n",
    "theta_s_0_5 = theta_s_0_5[['UID', 'depth_cm', 'mean']]\n",
    "\n",
    "theta_s_5_15['depth_cm'] = '5-15'\n",
    "theta_s_5_15 = theta_s_5_15[['UID', 'depth_cm', 'mean']]\n",
    "\n",
    "theta_s_15_30['depth_cm'] = '15-30'\n",
    "theta_s_15_30 = theta_s_15_30[['UID', 'depth_cm', 'mean']]\n",
    "\n",
    "theta_s_30_60['depth_cm'] = '30-60'\n",
    "theta_s_30_60 = theta_s_30_60[['UID', 'depth_cm', 'mean']]\n",
    "\n",
    "theta_s_60_100['depth_cm'] = '60-100'\n",
    "theta_s_60_100 = theta_s_60_100[['UID', 'depth_cm', 'mean']]\n",
    "\n",
    "theta_s_100_200['depth_cm'] = '100-200'\n",
    "theta_s_100_200 = theta_s_100_200[['UID', 'depth_cm', 'mean']]"
   ]
  },
  {
   "cell_type": "code",
   "execution_count": 33,
   "id": "21cc284d",
   "metadata": {},
   "outputs": [],
   "source": [
    "# Concatenate into one dataframe and add soil type column\n",
    "theta_s = pd.concat([theta_s_0_5, theta_s_5_15, theta_s_15_30, theta_s_30_60, theta_s_60_100, theta_s_100_200])\n",
    "theta_s = theta_s.rename(columns = {'mean':'thetaS_m3m3'})"
   ]
  },
  {
   "cell_type": "markdown",
   "id": "d0a5219e",
   "metadata": {},
   "source": [
    "## Make a master file\n",
    "Includes all soil types and their depths"
   ]
  },
  {
   "cell_type": "code",
   "execution_count": 103,
   "id": "3ace1ff2",
   "metadata": {},
   "outputs": [],
   "source": [
    "# Merge all of the files into one\n",
    "soil = pd.merge(pd.merge(pd.merge(pd.merge(pd.merge(pd.merge(pd.merge(pd.merge(pd.merge(silt,sand, on=['UID', 'depth_cm']),\n",
    "                                  clay,on=['UID', 'depth_cm']),\n",
    "                         theta_s,on=['UID', 'depth_cm']),\n",
    "                theta_r,on=['UID', 'depth_cm']),\n",
    "                log_ksat,on=['UID', 'depth_cm']),\n",
    "                Lambda,on=['UID', 'depth_cm']),\n",
    "                log_hb,on=['UID', 'depth_cm']),\n",
    "                n,on=['UID', 'depth_cm']),\n",
    "                log_alpha,on=['UID', 'depth_cm'])"
   ]
  },
  {
   "cell_type": "code",
   "execution_count": 104,
   "id": "b9643902",
   "metadata": {},
   "outputs": [],
   "source": [
    "# Make UID a float\n",
    "soil['UID'] = soil['UID'].astype(np.int64)\n",
    "\n",
    "# Make depth_cm a string\n",
    "soil['depth_cm'] = soil['depth_cm'].astype(str)"
   ]
  },
  {
   "cell_type": "code",
   "execution_count": 105,
   "id": "19853d8a",
   "metadata": {},
   "outputs": [],
   "source": [
    "# Round numbers to 2 decimal places\n",
    "cols = ['silt_prc', 'sand_prc', 'clay_prc', 'thetaS_m3m3', 'thetaR_m3m3', 'logKsat_cmHr', 'lambda', 'logHB_kPa', 'n', 'logAlpha_kPa1']\n",
    "soil[cols] = soil[cols].apply(pd.to_numeric)\n",
    "soil[cols] = soil[cols].round(2)"
   ]
  },
  {
   "cell_type": "markdown",
   "id": "5e3e7348",
   "metadata": {},
   "source": [
    "## Save as CSV"
   ]
  },
  {
   "cell_type": "code",
   "execution_count": 106,
   "id": "f33eb486",
   "metadata": {},
   "outputs": [],
   "source": [
    "soil.to_csv('C:\\\\Users\\\\ashle\\\\Desktop\\\\KGS\\\\data\\\\Agriculture-Land\\\\Soils\\\\Soil_Data_POLARIS_FieldsNoDups.csv')"
   ]
  }
 ],
 "metadata": {
  "kernelspec": {
   "display_name": "eggs",
   "language": "python",
   "name": "eggs"
  },
  "language_info": {
   "codemirror_mode": {
    "name": "ipython",
    "version": 3
   },
   "file_extension": ".py",
   "mimetype": "text/x-python",
   "name": "python",
   "nbconvert_exporter": "python",
   "pygments_lexer": "ipython3",
   "version": "3.10.4"
  }
 },
 "nbformat": 4,
 "nbformat_minor": 5
}
